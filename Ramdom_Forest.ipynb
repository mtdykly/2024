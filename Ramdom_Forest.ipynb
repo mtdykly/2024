{
 "cells": [
  {
   "cell_type": "markdown",
   "source": [
    "#### 导入表"
   ],
   "metadata": {
    "collapsed": false
   },
   "id": "437b6e84b1789eab"
  },
  {
   "cell_type": "code",
   "execution_count": 28,
   "id": "initial_id",
   "metadata": {
    "collapsed": true,
    "ExecuteTime": {
     "end_time": "2024-02-03T06:58:36.398878700Z",
     "start_time": "2024-02-03T06:58:36.314744500Z"
    }
   },
   "outputs": [
    {
     "data": {
      "text/plain": "    Year  Frequency                                                ISO   \n0   2000         77  BRA,USA,COL,ARG,PER,BOL,HND,ECU,URY,MEX,GTM,CH...  \\\n1   2001         79  ARG,BOL,CAN,CHL,USA,PER,COL,ECU,HTI,BRA,URY,PA...   \n2   2002         93  BRA,USA,COL,ARG,PER,BOL,HND,ECU,URY,MEX,GTM,CH...   \n3   2003         73  BOL,BRA,CHL,PER,ARG,USA,CAN,DOM,PRI,COL,HTI,BM...   \n4   2004         73  BOL,BRA,CHL,PER,ARG,USA,CAN,DOM,PRI,COL,HTI,BM...   \n5   2006         58  BOL,BRA,GUY,ECU,USA,COL,PER,CAN,ARG,SUR,CUB,HN...   \n6   2007         85  BRA, USA, PER, BOL, ARG, CAN, DOM, HTI, URY, C...   \n7   2008         84  USA, BRA, ECU, ARG, PER, COL, CAN, CHL, BLZ, C...   \n8   2009         62  DOM, BRA, COL, ECU, USA, BOL, CAN, HTI, GTM, N...   \n9   2010         80  BOL, PAN, USA, ECU, MEX, PER, DOM, HTI, BRA, C...   \n10  2011         81  BRA, USA, BOL, PER, ECU, CHL, CAN, COL, MEX, V...   \n11  2012         69  USA, BOL, CAN, CHL, ECU, BRA, ARG, PRY, DOM, H...   \n12  2013         61  BRA, USA, PER, BOL, ARG, BHS, MEX, CAN, HTI, P...   \n13  2014         63  BRA, HND, COL, PER, USA, CHL, ARG, PRY, GTM, M...   \n14  2015         80  USA, ARG, DOM, CHL, ECU, HTI, MEX, BRA, CUB, P...   \n15  2016         75  USA, ECU, BRA, HTI, PER, URY, CHL, ARG, CAN, D...   \n16  2017         92  CHL, USA, PER, ARG, CAN, DOM, HTI, JAM, MEX, U...   \n17  2018         58  ARG, BRA, USA, BOL, PRY, COL, GTM, CAN, CUB, D...   \n18  2019         69  USA, ARG, BRA, CUB, BOL, URY, PER, COL, ECU, C...   \n19  2020         82  USA, BRA, PER, BOL, ARG, COL, ECU, HND, GUF, G...   \n20  2021        119  BOL, PRY, USA, BRA, CHL, ECU, PER, MEX, ARG, C...   \n21  2022        104  USA, BRA, URY, PER, ECU, HTI, HND, DOM, PRI, B...   \n\n    Total Affected  Total Damage            z  Severity  \n0           619226      10828162    5723694.0  0.000000  \n1          8899981      14307778   11603879.5  0.075647  \n2          2226601      20301550   11264075.5  0.071275  \n3          1164643      34004858   17584750.5  0.152588  \n4          7089622     102982007   55035814.5  0.634383  \n5          1107999       9421468    5264733.5 -0.005904  \n6          8599363      22325189   15462276.0  0.125284  \n7         19693566      87335858   53514712.0  0.614815  \n8          5533575      18165918   11849746.5  0.078810  \n9          6066673      24293297   15179985.0  0.121652  \n10         8770318      87196492   47983405.0  0.543657  \n11         7446577     131047638   69247107.5  0.817207  \n12         2456291      41104231   21780261.0  0.206562  \n13        34419559      26830361   30624960.0  0.320346  \n14         1782039      35181513   18481776.0  0.164128  \n15        95630464      68082279   81856371.5  0.979421  \n16        14568765     328981653  171775209.0  2.136196  \n17         5030157      81965844   43498000.5  0.485953  \n18        11250349      31832229   21541289.0  0.203488  \n19        10016650      96132961   53074805.5  0.609156  \n20         3798847     161375523   82587185.0  0.988822  \n21        10396103     156516000   83456051.5  1.000000  ",
      "text/html": "<div>\n<style scoped>\n    .dataframe tbody tr th:only-of-type {\n        vertical-align: middle;\n    }\n\n    .dataframe tbody tr th {\n        vertical-align: top;\n    }\n\n    .dataframe thead th {\n        text-align: right;\n    }\n</style>\n<table border=\"1\" class=\"dataframe\">\n  <thead>\n    <tr style=\"text-align: right;\">\n      <th></th>\n      <th>Year</th>\n      <th>Frequency</th>\n      <th>ISO</th>\n      <th>Total Affected</th>\n      <th>Total Damage</th>\n      <th>z</th>\n      <th>Severity</th>\n    </tr>\n  </thead>\n  <tbody>\n    <tr>\n      <th>0</th>\n      <td>2000</td>\n      <td>77</td>\n      <td>BRA,USA,COL,ARG,PER,BOL,HND,ECU,URY,MEX,GTM,CH...</td>\n      <td>619226</td>\n      <td>10828162</td>\n      <td>5723694.0</td>\n      <td>0.000000</td>\n    </tr>\n    <tr>\n      <th>1</th>\n      <td>2001</td>\n      <td>79</td>\n      <td>ARG,BOL,CAN,CHL,USA,PER,COL,ECU,HTI,BRA,URY,PA...</td>\n      <td>8899981</td>\n      <td>14307778</td>\n      <td>11603879.5</td>\n      <td>0.075647</td>\n    </tr>\n    <tr>\n      <th>2</th>\n      <td>2002</td>\n      <td>93</td>\n      <td>BRA,USA,COL,ARG,PER,BOL,HND,ECU,URY,MEX,GTM,CH...</td>\n      <td>2226601</td>\n      <td>20301550</td>\n      <td>11264075.5</td>\n      <td>0.071275</td>\n    </tr>\n    <tr>\n      <th>3</th>\n      <td>2003</td>\n      <td>73</td>\n      <td>BOL,BRA,CHL,PER,ARG,USA,CAN,DOM,PRI,COL,HTI,BM...</td>\n      <td>1164643</td>\n      <td>34004858</td>\n      <td>17584750.5</td>\n      <td>0.152588</td>\n    </tr>\n    <tr>\n      <th>4</th>\n      <td>2004</td>\n      <td>73</td>\n      <td>BOL,BRA,CHL,PER,ARG,USA,CAN,DOM,PRI,COL,HTI,BM...</td>\n      <td>7089622</td>\n      <td>102982007</td>\n      <td>55035814.5</td>\n      <td>0.634383</td>\n    </tr>\n    <tr>\n      <th>5</th>\n      <td>2006</td>\n      <td>58</td>\n      <td>BOL,BRA,GUY,ECU,USA,COL,PER,CAN,ARG,SUR,CUB,HN...</td>\n      <td>1107999</td>\n      <td>9421468</td>\n      <td>5264733.5</td>\n      <td>-0.005904</td>\n    </tr>\n    <tr>\n      <th>6</th>\n      <td>2007</td>\n      <td>85</td>\n      <td>BRA, USA, PER, BOL, ARG, CAN, DOM, HTI, URY, C...</td>\n      <td>8599363</td>\n      <td>22325189</td>\n      <td>15462276.0</td>\n      <td>0.125284</td>\n    </tr>\n    <tr>\n      <th>7</th>\n      <td>2008</td>\n      <td>84</td>\n      <td>USA, BRA, ECU, ARG, PER, COL, CAN, CHL, BLZ, C...</td>\n      <td>19693566</td>\n      <td>87335858</td>\n      <td>53514712.0</td>\n      <td>0.614815</td>\n    </tr>\n    <tr>\n      <th>8</th>\n      <td>2009</td>\n      <td>62</td>\n      <td>DOM, BRA, COL, ECU, USA, BOL, CAN, HTI, GTM, N...</td>\n      <td>5533575</td>\n      <td>18165918</td>\n      <td>11849746.5</td>\n      <td>0.078810</td>\n    </tr>\n    <tr>\n      <th>9</th>\n      <td>2010</td>\n      <td>80</td>\n      <td>BOL, PAN, USA, ECU, MEX, PER, DOM, HTI, BRA, C...</td>\n      <td>6066673</td>\n      <td>24293297</td>\n      <td>15179985.0</td>\n      <td>0.121652</td>\n    </tr>\n    <tr>\n      <th>10</th>\n      <td>2011</td>\n      <td>81</td>\n      <td>BRA, USA, BOL, PER, ECU, CHL, CAN, COL, MEX, V...</td>\n      <td>8770318</td>\n      <td>87196492</td>\n      <td>47983405.0</td>\n      <td>0.543657</td>\n    </tr>\n    <tr>\n      <th>11</th>\n      <td>2012</td>\n      <td>69</td>\n      <td>USA, BOL, CAN, CHL, ECU, BRA, ARG, PRY, DOM, H...</td>\n      <td>7446577</td>\n      <td>131047638</td>\n      <td>69247107.5</td>\n      <td>0.817207</td>\n    </tr>\n    <tr>\n      <th>12</th>\n      <td>2013</td>\n      <td>61</td>\n      <td>BRA, USA, PER, BOL, ARG, BHS, MEX, CAN, HTI, P...</td>\n      <td>2456291</td>\n      <td>41104231</td>\n      <td>21780261.0</td>\n      <td>0.206562</td>\n    </tr>\n    <tr>\n      <th>13</th>\n      <td>2014</td>\n      <td>63</td>\n      <td>BRA, HND, COL, PER, USA, CHL, ARG, PRY, GTM, M...</td>\n      <td>34419559</td>\n      <td>26830361</td>\n      <td>30624960.0</td>\n      <td>0.320346</td>\n    </tr>\n    <tr>\n      <th>14</th>\n      <td>2015</td>\n      <td>80</td>\n      <td>USA, ARG, DOM, CHL, ECU, HTI, MEX, BRA, CUB, P...</td>\n      <td>1782039</td>\n      <td>35181513</td>\n      <td>18481776.0</td>\n      <td>0.164128</td>\n    </tr>\n    <tr>\n      <th>15</th>\n      <td>2016</td>\n      <td>75</td>\n      <td>USA, ECU, BRA, HTI, PER, URY, CHL, ARG, CAN, D...</td>\n      <td>95630464</td>\n      <td>68082279</td>\n      <td>81856371.5</td>\n      <td>0.979421</td>\n    </tr>\n    <tr>\n      <th>16</th>\n      <td>2017</td>\n      <td>92</td>\n      <td>CHL, USA, PER, ARG, CAN, DOM, HTI, JAM, MEX, U...</td>\n      <td>14568765</td>\n      <td>328981653</td>\n      <td>171775209.0</td>\n      <td>2.136196</td>\n    </tr>\n    <tr>\n      <th>17</th>\n      <td>2018</td>\n      <td>58</td>\n      <td>ARG, BRA, USA, BOL, PRY, COL, GTM, CAN, CUB, D...</td>\n      <td>5030157</td>\n      <td>81965844</td>\n      <td>43498000.5</td>\n      <td>0.485953</td>\n    </tr>\n    <tr>\n      <th>18</th>\n      <td>2019</td>\n      <td>69</td>\n      <td>USA, ARG, BRA, CUB, BOL, URY, PER, COL, ECU, C...</td>\n      <td>11250349</td>\n      <td>31832229</td>\n      <td>21541289.0</td>\n      <td>0.203488</td>\n    </tr>\n    <tr>\n      <th>19</th>\n      <td>2020</td>\n      <td>82</td>\n      <td>USA, BRA, PER, BOL, ARG, COL, ECU, HND, GUF, G...</td>\n      <td>10016650</td>\n      <td>96132961</td>\n      <td>53074805.5</td>\n      <td>0.609156</td>\n    </tr>\n    <tr>\n      <th>20</th>\n      <td>2021</td>\n      <td>119</td>\n      <td>BOL, PRY, USA, BRA, CHL, ECU, PER, MEX, ARG, C...</td>\n      <td>3798847</td>\n      <td>161375523</td>\n      <td>82587185.0</td>\n      <td>0.988822</td>\n    </tr>\n    <tr>\n      <th>21</th>\n      <td>2022</td>\n      <td>104</td>\n      <td>USA, BRA, URY, PER, ECU, HTI, HND, DOM, PRI, B...</td>\n      <td>10396103</td>\n      <td>156516000</td>\n      <td>83456051.5</td>\n      <td>1.000000</td>\n    </tr>\n  </tbody>\n</table>\n</div>"
     },
     "execution_count": 28,
     "metadata": {},
     "output_type": "execute_result"
    }
   ],
   "source": [
    "import pandas as pd\n",
    "\n",
    "data = pd.read_csv('Model_one.csv') \n",
    "data"
   ]
  },
  {
   "cell_type": "code",
   "outputs": [
    {
     "data": {
      "text/plain": "    Year  Frequency                                                ISO   \n0   2000         77  ARG,BLZ,BOL,BRA,CAN,CHL,COL,CUB,ECU,GTM,HND,HT...  \\\n1   2001         79  ARG,BHS,BLZ,BOL,BRA,CAN,CHL,COL,CRI,CUB,CYM,DO...   \n2   2002         93  ARG,BLZ,BOL,BRA,CAN,CHL,COL,CUB,ECU,GTM,HND,HT...   \n3   2003         73  ARG,BMU,BOL,BRA,CAN,CHL,COL,CRI,CUB,DOM,ECU,GT...   \n4   2004         73  ARG,BMU,BOL,BRA,CAN,CHL,COL,CRI,CUB,DOM,ECU,GT...   \n5   2006         58  ARG,BOL,BRA,CAN,CHL,COL,CUB,ECU,GUY,HND,HTI,JA...   \n6   2007         85   ARG, BHS, BLZ, BOL, CAN, COL, CRI, CUB, DMA, ...   \n7   2008         84   ARG, ATG, BHS, BLZ, BOL, BRA, CAN, CHL, COL, ...   \n8   2009         62   ARG, BOL, BRA, CAN, COL, ECU, GTM, HND, HTI, ...   \n9   2010         80   ATG, BLZ, BRA, BRB, CAN, COL, CRI, DOM, ECU, ...   \n10  2011         81   BHS, BOL, CAN, CHL, COL, CRI, DMA, DOM, ECU, ...   \n11  2012         69   ARG, BHS, BOL, BRA, CAN, CHL, COL, CRI, CUB, ...   \n12  2013         61   ARG, BHS, BOL, CAN, COL, CUB, DOM, ECU, HTI, ...   \n13  2014         63   ARG, BOL, CAN, CHL, COL, CRI, DOM, GTM, HND, ...   \n14  2015         80   ARG, BHS, BLZ, BOL, BRA, CAN, CHL, COL, CRI, ...   \n15  2016         75   ARG, BHS, BLZ, BOL, BRA, CAN, CHL, COL, CRI, ...   \n16  2017         92   AIA, ARG, ATG, BHS, BLM, BRA, BRB, CAN, COL, ...   \n17  2018         58   BOL, BRA, CAN, COL, CRI, CUB, DOM, GTM, HND, ...   \n18  2019         69   ARG, BHS, BOL, BRA, CAN, CHL, COL, CUB, ECU, ...   \n19  2020         82   ARG, BLZ, BOL, BRA, CAN, COL, CRI, CUB, DOM, ...   \n20  2021        119   ARG, BRA, BRB, CAN, CHL, COL, CRI, CUB, DOM, ...   \n21  2022        104   ARG, BLZ, BOL, BRA, CAN, CHL, COL, CRI, CUB, ...   \n\n    Total Affected  Total Damage            z  Severity  \n0           619226      10828162    5723694.0  0.000000  \n1          8899981      14307778   11603879.5  0.075647  \n2          2226601      20301550   11264075.5  0.071275  \n3          1164643      34004858   17584750.5  0.152588  \n4          7089622     102982007   55035814.5  0.634383  \n5          1107999       9421468    5264733.5 -0.005904  \n6          8599363      22325189   15462276.0  0.125284  \n7         19693566      87335858   53514712.0  0.614815  \n8          5533575      18165918   11849746.5  0.078810  \n9          6066673      24293297   15179985.0  0.121652  \n10         8770318      87196492   47983405.0  0.543657  \n11         7446577     131047638   69247107.5  0.817207  \n12         2456291      41104231   21780261.0  0.206562  \n13        34419559      26830361   30624960.0  0.320346  \n14         1782039      35181513   18481776.0  0.164128  \n15        95630464      68082279   81856371.5  0.979421  \n16        14568765     328981653  171775209.0  2.136196  \n17         5030157      81965844   43498000.5  0.485953  \n18        11250349      31832229   21541289.0  0.203488  \n19        10016650      96132961   53074805.5  0.609156  \n20         3798847     161375523   82587185.0  0.988822  \n21        10396103     156516000   83456051.5  1.000000  ",
      "text/html": "<div>\n<style scoped>\n    .dataframe tbody tr th:only-of-type {\n        vertical-align: middle;\n    }\n\n    .dataframe tbody tr th {\n        vertical-align: top;\n    }\n\n    .dataframe thead th {\n        text-align: right;\n    }\n</style>\n<table border=\"1\" class=\"dataframe\">\n  <thead>\n    <tr style=\"text-align: right;\">\n      <th></th>\n      <th>Year</th>\n      <th>Frequency</th>\n      <th>ISO</th>\n      <th>Total Affected</th>\n      <th>Total Damage</th>\n      <th>z</th>\n      <th>Severity</th>\n    </tr>\n  </thead>\n  <tbody>\n    <tr>\n      <th>0</th>\n      <td>2000</td>\n      <td>77</td>\n      <td>ARG,BLZ,BOL,BRA,CAN,CHL,COL,CUB,ECU,GTM,HND,HT...</td>\n      <td>619226</td>\n      <td>10828162</td>\n      <td>5723694.0</td>\n      <td>0.000000</td>\n    </tr>\n    <tr>\n      <th>1</th>\n      <td>2001</td>\n      <td>79</td>\n      <td>ARG,BHS,BLZ,BOL,BRA,CAN,CHL,COL,CRI,CUB,CYM,DO...</td>\n      <td>8899981</td>\n      <td>14307778</td>\n      <td>11603879.5</td>\n      <td>0.075647</td>\n    </tr>\n    <tr>\n      <th>2</th>\n      <td>2002</td>\n      <td>93</td>\n      <td>ARG,BLZ,BOL,BRA,CAN,CHL,COL,CUB,ECU,GTM,HND,HT...</td>\n      <td>2226601</td>\n      <td>20301550</td>\n      <td>11264075.5</td>\n      <td>0.071275</td>\n    </tr>\n    <tr>\n      <th>3</th>\n      <td>2003</td>\n      <td>73</td>\n      <td>ARG,BMU,BOL,BRA,CAN,CHL,COL,CRI,CUB,DOM,ECU,GT...</td>\n      <td>1164643</td>\n      <td>34004858</td>\n      <td>17584750.5</td>\n      <td>0.152588</td>\n    </tr>\n    <tr>\n      <th>4</th>\n      <td>2004</td>\n      <td>73</td>\n      <td>ARG,BMU,BOL,BRA,CAN,CHL,COL,CRI,CUB,DOM,ECU,GT...</td>\n      <td>7089622</td>\n      <td>102982007</td>\n      <td>55035814.5</td>\n      <td>0.634383</td>\n    </tr>\n    <tr>\n      <th>5</th>\n      <td>2006</td>\n      <td>58</td>\n      <td>ARG,BOL,BRA,CAN,CHL,COL,CUB,ECU,GUY,HND,HTI,JA...</td>\n      <td>1107999</td>\n      <td>9421468</td>\n      <td>5264733.5</td>\n      <td>-0.005904</td>\n    </tr>\n    <tr>\n      <th>6</th>\n      <td>2007</td>\n      <td>85</td>\n      <td>ARG, BHS, BLZ, BOL, CAN, COL, CRI, CUB, DMA, ...</td>\n      <td>8599363</td>\n      <td>22325189</td>\n      <td>15462276.0</td>\n      <td>0.125284</td>\n    </tr>\n    <tr>\n      <th>7</th>\n      <td>2008</td>\n      <td>84</td>\n      <td>ARG, ATG, BHS, BLZ, BOL, BRA, CAN, CHL, COL, ...</td>\n      <td>19693566</td>\n      <td>87335858</td>\n      <td>53514712.0</td>\n      <td>0.614815</td>\n    </tr>\n    <tr>\n      <th>8</th>\n      <td>2009</td>\n      <td>62</td>\n      <td>ARG, BOL, BRA, CAN, COL, ECU, GTM, HND, HTI, ...</td>\n      <td>5533575</td>\n      <td>18165918</td>\n      <td>11849746.5</td>\n      <td>0.078810</td>\n    </tr>\n    <tr>\n      <th>9</th>\n      <td>2010</td>\n      <td>80</td>\n      <td>ATG, BLZ, BRA, BRB, CAN, COL, CRI, DOM, ECU, ...</td>\n      <td>6066673</td>\n      <td>24293297</td>\n      <td>15179985.0</td>\n      <td>0.121652</td>\n    </tr>\n    <tr>\n      <th>10</th>\n      <td>2011</td>\n      <td>81</td>\n      <td>BHS, BOL, CAN, CHL, COL, CRI, DMA, DOM, ECU, ...</td>\n      <td>8770318</td>\n      <td>87196492</td>\n      <td>47983405.0</td>\n      <td>0.543657</td>\n    </tr>\n    <tr>\n      <th>11</th>\n      <td>2012</td>\n      <td>69</td>\n      <td>ARG, BHS, BOL, BRA, CAN, CHL, COL, CRI, CUB, ...</td>\n      <td>7446577</td>\n      <td>131047638</td>\n      <td>69247107.5</td>\n      <td>0.817207</td>\n    </tr>\n    <tr>\n      <th>12</th>\n      <td>2013</td>\n      <td>61</td>\n      <td>ARG, BHS, BOL, CAN, COL, CUB, DOM, ECU, HTI, ...</td>\n      <td>2456291</td>\n      <td>41104231</td>\n      <td>21780261.0</td>\n      <td>0.206562</td>\n    </tr>\n    <tr>\n      <th>13</th>\n      <td>2014</td>\n      <td>63</td>\n      <td>ARG, BOL, CAN, CHL, COL, CRI, DOM, GTM, HND, ...</td>\n      <td>34419559</td>\n      <td>26830361</td>\n      <td>30624960.0</td>\n      <td>0.320346</td>\n    </tr>\n    <tr>\n      <th>14</th>\n      <td>2015</td>\n      <td>80</td>\n      <td>ARG, BHS, BLZ, BOL, BRA, CAN, CHL, COL, CRI, ...</td>\n      <td>1782039</td>\n      <td>35181513</td>\n      <td>18481776.0</td>\n      <td>0.164128</td>\n    </tr>\n    <tr>\n      <th>15</th>\n      <td>2016</td>\n      <td>75</td>\n      <td>ARG, BHS, BLZ, BOL, BRA, CAN, CHL, COL, CRI, ...</td>\n      <td>95630464</td>\n      <td>68082279</td>\n      <td>81856371.5</td>\n      <td>0.979421</td>\n    </tr>\n    <tr>\n      <th>16</th>\n      <td>2017</td>\n      <td>92</td>\n      <td>AIA, ARG, ATG, BHS, BLM, BRA, BRB, CAN, COL, ...</td>\n      <td>14568765</td>\n      <td>328981653</td>\n      <td>171775209.0</td>\n      <td>2.136196</td>\n    </tr>\n    <tr>\n      <th>17</th>\n      <td>2018</td>\n      <td>58</td>\n      <td>BOL, BRA, CAN, COL, CRI, CUB, DOM, GTM, HND, ...</td>\n      <td>5030157</td>\n      <td>81965844</td>\n      <td>43498000.5</td>\n      <td>0.485953</td>\n    </tr>\n    <tr>\n      <th>18</th>\n      <td>2019</td>\n      <td>69</td>\n      <td>ARG, BHS, BOL, BRA, CAN, CHL, COL, CUB, ECU, ...</td>\n      <td>11250349</td>\n      <td>31832229</td>\n      <td>21541289.0</td>\n      <td>0.203488</td>\n    </tr>\n    <tr>\n      <th>19</th>\n      <td>2020</td>\n      <td>82</td>\n      <td>ARG, BLZ, BOL, BRA, CAN, COL, CRI, CUB, DOM, ...</td>\n      <td>10016650</td>\n      <td>96132961</td>\n      <td>53074805.5</td>\n      <td>0.609156</td>\n    </tr>\n    <tr>\n      <th>20</th>\n      <td>2021</td>\n      <td>119</td>\n      <td>ARG, BRA, BRB, CAN, CHL, COL, CRI, CUB, DOM, ...</td>\n      <td>3798847</td>\n      <td>161375523</td>\n      <td>82587185.0</td>\n      <td>0.988822</td>\n    </tr>\n    <tr>\n      <th>21</th>\n      <td>2022</td>\n      <td>104</td>\n      <td>ARG, BLZ, BOL, BRA, CAN, CHL, COL, CRI, CUB, ...</td>\n      <td>10396103</td>\n      <td>156516000</td>\n      <td>83456051.5</td>\n      <td>1.000000</td>\n    </tr>\n  </tbody>\n</table>\n</div>"
     },
     "execution_count": 29,
     "metadata": {},
     "output_type": "execute_result"
    }
   ],
   "source": [
    "data['ISO'] = data['ISO'].apply(lambda x: ','.join(sorted(x.split(','))))\n",
    "data"
   ],
   "metadata": {
    "collapsed": false,
    "ExecuteTime": {
     "end_time": "2024-02-03T06:58:36.485106500Z",
     "start_time": "2024-02-03T06:58:36.398878700Z"
    }
   },
   "id": "d5fe932581b8af6a",
   "execution_count": 29
  },
  {
   "cell_type": "markdown",
   "source": [
    "### 极端天气预测模型\n",
    "#### 极端天气事件的预测是一项复杂的任务，受到多种因素的影响。对于美洲2000-2022年的极端天气事件，我们希望能够预测其发生频次、地点和严重性。\n",
    "#### 使用是机器学习中的随机森林模型（Random Forest Model),随机森林模型是一种强大的集成学习算法，适用于多输出回归和多标签分类任务。其是通过构建多个决策树，并使用随机特征选择和投票或平均来提高预测性能。\n",
    "#### 在本次预测任务中，我们需要完成三个任务1）多输出回归任务：使用随机森林模型对频次和严重性进行预测。2）多标签分类任务：使用随机森林模型对极端天气发生地点进行预测。3）性能评估：使用均方误差（MSE）、准确率（Accuracy)、精度(Precision)、召回率(Recall)和F1分数(F1 score)等指标来评估模型的性能。\n",
    "- **准确率 (Accuracy)**:\n",
    "   - 准确率是分类任务中最常用的评价指标，它表示模型正确分类的样本数占总样本数的比例。计算公式：$$ \\text{Accuracy} = \\frac{\\text{Number of Correct Predictions}}{\\text{Total Number of Predictions}} $$\n",
    "\n",
    "- **精度 (Precision)**:\n",
    "   - 精度是指模型在所有预测为正类的样本中，真正是正类的样本占比。计算公式：$$ \\text{Precision} = \\frac{\\text{True Positives}}{\\text{True Positives} + \\text{False Positives}} $$\n",
    "\n",
    "- **召回率 (Recall)**:\n",
    "   - 召回率是指所有真正为正类的样本中，被模型正确预测为正类的样本占比。计算公式：$$ \\text{Recall} = \\frac{\\text{True Positives}}{\\text{True Positives} + \\text{False Negatives}} $$\n",
    "\n",
    "- **F1分数 (F1 Score)**:\n",
    "   - F1分数是精度和召回率的调和平均值，可以综合评估模型的性能。计算公式：$$ \\text{F1 Score} = \\frac{2 \\times \\text{Precision} \\times \\text{Recall}}{\\text{Precision} + \\text{Recall}} $$\n",
    "\n",
    "#### 结果：\n",
    "+ 极端天气年发生频次预测模型的均方误差值较大，这表明当前的预测模型在捕捉极端天气年发生频次的变化规律上存在一定的不足。这可能是因为极端天气事件本身受到多种复杂因素的影响，包括气候变化、地理位置、地形特征等，这些因素的相互作用使得极端天气的发生难以准确预测。\n",
    "+ 对于极端天气年发生严重性预测模型，其均方误差值较好，表明该模型在预测极端天气事件的严重程度方面具有较高的准确性和可靠性。这种较低的均方误差值可能源于我们对严重性预测所采用的特征工程方面的优化。在特征工程方面，我们可能对影响极端天气严重性的关键因素进行了全面的考量，我们采取了综合考虑影响人数和损失金额两个指标的方法。通过赋予这两个指标不同的权重，并将它们线性组合成一个综合指标S。在计算S之后，我们对其进行了归一化处理，以确保S的取值范围在0到1之间。这样的处理可以使得不同时间点或不同地点的S值具有可比性，更便于进行综合比较和分析。归一化处理公式(见群中图）\n",
    "+ 对于极端天气年发生地点预测模型，我们的（准确率（改动待考虑））精度、召回率和F1分数表现良好，这表明我们的模型在预测极端天气发生地点方面具有较高的准确性和可靠性。"
   ],
   "metadata": {
    "collapsed": false
   },
   "id": "381f2bb6a34f6be7"
  },
  {
   "cell_type": "code",
   "outputs": [
    {
     "name": "stdout",
     "output_type": "stream",
     "text": [
      "Mean Squared Error for Frequency: 148.69536000000005\n",
      "Mean Squared Error for Severity: 0.11256814321880064\n",
      "Accuracy: 0.2\n",
      "Precision: 0.4978070175438596\n",
      "Recall: 0.519736842105263\n",
      "F1 Score: 0.4986842105263157\n"
     ]
    },
    {
     "name": "stderr",
     "output_type": "stream",
     "text": [
      "E:\\PYTHON_\\Python\\Lib\\site-packages\\sklearn\\metrics\\_classification.py:1471: UndefinedMetricWarning: Precision is ill-defined and being set to 0.0 in labels with no predicted samples. Use `zero_division` parameter to control this behavior.\n",
      "  _warn_prf(average, modifier, msg_start, len(result))\n",
      "E:\\PYTHON_\\Python\\Lib\\site-packages\\sklearn\\metrics\\_classification.py:1471: UndefinedMetricWarning: Recall is ill-defined and being set to 0.0 in labels with no true samples. Use `zero_division` parameter to control this behavior.\n",
      "  _warn_prf(average, modifier, msg_start, len(result))\n",
      "E:\\PYTHON_\\Python\\Lib\\site-packages\\sklearn\\metrics\\_classification.py:1760: UndefinedMetricWarning: F-score is ill-defined and being set to 0.0 in labels with no true nor predicted samples. Use `zero_division` parameter to control this behavior.\n",
      "  _warn_prf(average, \"true nor predicted\", \"F-score is\", len(true_sum))\n"
     ]
    }
   ],
   "source": [
    "import pandas as pd\n",
    "from sklearn.ensemble import RandomForestRegressor, RandomForestClassifier\n",
    "from sklearn.multioutput import MultiOutputRegressor, MultiOutputClassifier\n",
    "from sklearn.model_selection import train_test_split\n",
    "from sklearn.metrics import mean_squared_error, accuracy_score, precision_score, recall_score, f1_score\n",
    "\n",
    "# 拆分 ISO 地点列成多个二进制标签\n",
    "y_iso = data['ISO'].str.get_dummies(sep=',')\n",
    "\n",
    "# 合并要预测的目标数据\n",
    "y = pd.concat([data['Frequency'],y_iso, data['Severity']], axis=1)\n",
    "\n",
    "# 特征数据\n",
    "X = data[['Year']]\n",
    "\n",
    "# 划分训练集和测试集\n",
    "X_train, X_test, y_train, y_test = train_test_split(X, y, test_size=0.2)\n",
    "\n",
    "# 定义多输出回归模型\n",
    "regressor = RandomForestRegressor()\n",
    "\n",
    "# 定义多输出分类模型\n",
    "classifier = RandomForestClassifier()\n",
    "\n",
    "# 使用多输出回归模型\n",
    "multi_output_regressor = MultiOutputRegressor(regressor)\n",
    "multi_output_regressor.fit(X_train, y_train[['Frequency', 'Severity']])\n",
    "y_pred_regressor = multi_output_regressor.predict(X_test)\n",
    "\n",
    "# 使用多标签分类模型\n",
    "multi_output_classifier = MultiOutputClassifier(classifier)\n",
    "multi_output_classifier.fit(X_train, y_train.drop(columns=['Frequency', 'Severity']))\n",
    "y_pred_classifier = multi_output_classifier.predict(X_test)\n",
    "\n",
    "# 评估多输出回归模型性能\n",
    "mse_frequency = mean_squared_error(y_test['Frequency'], y_pred_regressor[:, 0])\n",
    "mse_severity = mean_squared_error(y_test['Severity'], y_pred_regressor[:, 1])\n",
    "\n",
    "print(f\"Mean Squared Error for Frequency: {mse_frequency}\")\n",
    "print(f\"Mean Squared Error for Severity: {mse_severity}\")\n",
    "\n",
    "# 评估多标签分类模型性能\n",
    "accuracy = accuracy_score(y_test.drop(columns=['Frequency', 'Severity']), y_pred_classifier)\n",
    "precision = precision_score(y_test.drop(columns=['Frequency', 'Severity']), y_pred_classifier, average='macro')\n",
    "recall = recall_score(y_test.drop(columns=['Frequency', 'Severity']), y_pred_classifier, average='macro')\n",
    "f1 = f1_score(y_test.drop(columns=['Frequency', 'Severity']), y_pred_classifier, average='macro')\n",
    "\n",
    "print(f\"Accuracy: {accuracy}\")\n",
    "print(f\"Precision: {precision}\")\n",
    "print(f\"Recall: {recall}\")\n",
    "print(f\"F1 Score: {f1}\")"
   ],
   "metadata": {
    "collapsed": false,
    "ExecuteTime": {
     "end_time": "2024-02-03T06:58:53.501614Z",
     "start_time": "2024-02-03T06:58:36.461611400Z"
    }
   },
   "id": "8cb231fac5850b94",
   "execution_count": 30
  },
  {
   "cell_type": "code",
   "outputs": [],
   "source": [
    "# import numpy as np\n",
    "# import pandas as pd\n",
    "# import pywt\n",
    "# import matplotlib.pyplot as plt\n",
    "# data = data['Frequency'].values\n",
    "# \n",
    "# # 小波分解\n",
    "# coeffs = pywt.wavedec(data, 'db1', level=3)\n",
    "# \n",
    "# # 重构近似分量和细节分量\n",
    "# reconstructed_signal = pywt.waverec(coeffs, 'db1')\n",
    "# \n",
    "# # 绘制原始信号和重构信号\n",
    "# plt.figure()\n",
    "# plt.plot(data, label='Original Signal')\n",
    "# plt.plot(reconstructed_signal, label='Reconstructed Signal')\n",
    "# plt.legend()\n",
    "# plt.show()"
   ],
   "metadata": {
    "collapsed": false,
    "ExecuteTime": {
     "end_time": "2024-02-03T06:58:53.503020600Z",
     "start_time": "2024-02-03T06:58:53.484161600Z"
    }
   },
   "id": "4153717c7e364bdd",
   "execution_count": 31
  },
  {
   "cell_type": "code",
   "outputs": [],
   "source": [],
   "metadata": {
    "collapsed": false,
    "ExecuteTime": {
     "end_time": "2024-02-03T06:58:53.550062500Z",
     "start_time": "2024-02-03T06:58:53.491550900Z"
    }
   },
   "id": "278e37c13b2b1b7e",
   "execution_count": 31
  }
 ],
 "metadata": {
  "kernelspec": {
   "display_name": "Python 3",
   "language": "python",
   "name": "python3"
  },
  "language_info": {
   "codemirror_mode": {
    "name": "ipython",
    "version": 2
   },
   "file_extension": ".py",
   "mimetype": "text/x-python",
   "name": "python",
   "nbconvert_exporter": "python",
   "pygments_lexer": "ipython2",
   "version": "2.7.6"
  }
 },
 "nbformat": 4,
 "nbformat_minor": 5
}
